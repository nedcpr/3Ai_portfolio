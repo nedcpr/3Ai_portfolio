{
 "cells": [
  {
   "cell_type": "code",
   "execution_count": 123,
   "metadata": {},
   "outputs": [],
   "source": [
    "import networkx as nx\n",
    "import pandas as pd\n",
    "from csv import reader\n",
    "from pyvis.network import Network"
   ]
  },
  {
   "cell_type": "code",
   "execution_count": 133,
   "metadata": {},
   "outputs": [],
   "source": [
    " # read csv file as a list of lists\n",
    "with open('systems map matrix.csv', 'r') as read_obj:\n",
    "    csv_reader = reader(read_obj)\n",
    "    list_of_rows = list(csv_reader)\n",
    "\n",
    "nodes = list_of_rows[0]\n",
    "data = list_of_rows\n",
    "
    # print(nodes)"
   ]
  },
  {
   "cell_type": "code",
   "execution_count": 134,
   "metadata": {},
   "outputs": [],
   "source": [
    "\n",
    "net = Network(height=\"100%\", width=\"100%\", font_color=\"#a557c4\", directed = True)\n",
    "net.add_nodes(nodes[1:], color=[\"#a557c4\"]*len(nodes[1:]))\n",
    "\n",
    "for i in range(1,len(nodes)):\n",
    "    for j in range(1,len(nodes)):\n",
    "        if data[j][i] != '':\n",
    "            net.add_edge(nodes[j], nodes[i], title= data[j][i])\n",
    "        if data[i][j] != '':\n",
    "            net.add_edge(nodes[i], nodes[j], title= data[i][j])\n"
   ]
  },
  {
   "cell_type": "code",
   "execution_count": 135,
   "metadata": {},
   "outputs": [],
   "source": [
    "net.barnes_hut()\n",
    "net.show(\"3ai_system_map.html\")\n"
   ]
  },
  {
   "cell_type": "code",
   "execution_count": null,
   "metadata": {},
   "outputs": [],
   "source": []
  }
 ],
 "metadata": {
  "kernelspec": {
   "display_name": "Python 3",
   "language": "python",
   "name": "python3"
  },
  "language_info": {
   "codemirror_mode": {
    "name": "ipython",
    "version": 3
   },
   "file_extension": ".py",
   "mimetype": "text/x-python",
   "name": "python",
   "nbconvert_exporter": "python",
   "pygments_lexer": "ipython3",
   "version": "3.7.4"
  }
 },
 "nbformat": 4,
 "nbformat_minor": 2
}
